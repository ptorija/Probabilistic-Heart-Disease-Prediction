{
 "cells": [
  {
   "cell_type": "code",
   "execution_count": 2,
   "metadata": {},
   "outputs": [],
   "source": [
    "import pandas as pd\n",
    "\n",
    "df = pd.read_csv(\"../../../data/preprocessed_data_with_resampling.csv\")"
   ]
  },
  {
   "cell_type": "markdown",
   "metadata": {},
   "source": [
    "Separate between objective and independent variables"
   ]
  },
  {
   "cell_type": "code",
   "execution_count": 3,
   "metadata": {},
   "outputs": [],
   "source": [
    "x = df.drop(columns=['HeartDisease'])\n",
    "y = df['HeartDisease']"
   ]
  },
  {
   "cell_type": "markdown",
   "metadata": {},
   "source": [
    "Divide the data between train and test data"
   ]
  },
  {
   "cell_type": "code",
   "execution_count": 4,
   "metadata": {},
   "outputs": [],
   "source": [
    "from sklearn.model_selection import train_test_split\n",
    "\n",
    "x_train, x_test, y_train, y_test = train_test_split(x,y, test_size= 0.2)"
   ]
  },
  {
   "cell_type": "markdown",
   "metadata": {},
   "source": [
    "Logistic Regresion Model"
   ]
  },
  {
   "cell_type": "code",
   "execution_count": 12,
   "metadata": {},
   "outputs": [
    {
     "name": "stdout",
     "output_type": "stream",
     "text": [
      "The intercept b0 = [-2.26234994]\n",
      "The coefficients (b1) with feature names:\n",
      "             Feature  Coefficient\n",
      "0                BMI     0.629044\n",
      "1            Smoking     0.383136\n",
      "2    AlcoholDrinking    -0.557233\n",
      "3             Stroke     1.005172\n",
      "4     PhysicalHealth     0.033584\n",
      "5       MentalHealth     0.111022\n",
      "6        DiffWalking     0.196351\n",
      "7                Sex     0.706564\n",
      "8        AgeCategory     0.055180\n",
      "9           Diabetic     0.471949\n",
      "10  PhysicalActivity    -0.033634\n",
      "11         GenHealth    -0.594309\n",
      "12         SleepTime    -0.691961\n",
      "13            Asthma     0.141743\n",
      "14     KidneyDisease     0.350874\n",
      "15        SkinCancer     0.068857\n",
      "\n",
      "------------------------\n",
      "\n",
      "Accuracy: 0.7628312351439387\n",
      "Recall: 0.777315296566077\n",
      "F1 Score: 0.7689140504374679\n",
      "Confusion Matrix:\n",
      " [[8366 2820]\n",
      " [2568 8964]]\n"
     ]
    }
   ],
   "source": [
    "from sklearn.linear_model import LogisticRegression\n",
    "from sklearn.metrics import confusion_matrix, accuracy_score, recall_score, f1_score\n",
    "import pandas as pd\n",
    "\n",
    "# Implementing Logistic Regression\n",
    "modelLogistic = LogisticRegression(max_iter=250)\n",
    "modelLogistic.fit(x_train, y_train)\n",
    "\n",
    "# Get the coefficients and feature names\n",
    "coefficients = modelLogistic.coef_[0]  # Extract the coefficients\n",
    "feature_names = x.columns  # Assuming you have the feature names in a DataFrame\n",
    "\n",
    "# Create a dictionary to map feature names to coefficients\n",
    "feature_coefficient_map = {feature: coefficient for feature, coefficient in zip(feature_names, coefficients)}\n",
    "\n",
    "# Create a Pandas DataFrame\n",
    "coefficients_df = pd.DataFrame(list(feature_coefficient_map.items()), columns=[\"Feature\", \"Coefficient\"])\n",
    "\n",
    "# Print the intercept and the coefficients with feature names\n",
    "print(\"The intercept b0 =\", modelLogistic.intercept_)\n",
    "print(\"The coefficients (b1) with feature names:\")\n",
    "print(coefficients_df)\n",
    "\n",
    "print(\"\\n------------------------\\n\")\n",
    "\n",
    "# Make predictions for the test data\n",
    "y_pred = modelLogistic.predict(x_test)\n",
    "\n",
    "# Calculate evaluation metrics\n",
    "accuracy = accuracy_score(y_test, y_pred)\n",
    "recall = recall_score(y_test, y_pred)\n",
    "f1 = f1_score(y_test, y_pred)\n",
    "conf_matrix = confusion_matrix(y_test, y_pred)\n",
    "\n",
    "# Print the metrics\n",
    "print(\"Accuracy:\", accuracy)\n",
    "print(\"Recall:\", recall)\n",
    "print(\"F1 Score:\", f1)\n",
    "print(\"Confusion Matrix:\\n\", conf_matrix)\n"
   ]
  }
 ],
 "metadata": {
  "kernelspec": {
   "display_name": "venv",
   "language": "python",
   "name": "python3"
  },
  "language_info": {
   "codemirror_mode": {
    "name": "ipython",
    "version": 3
   },
   "file_extension": ".py",
   "mimetype": "text/x-python",
   "name": "python",
   "nbconvert_exporter": "python",
   "pygments_lexer": "ipython3",
   "version": "3.11.6"
  }
 },
 "nbformat": 4,
 "nbformat_minor": 2
}
