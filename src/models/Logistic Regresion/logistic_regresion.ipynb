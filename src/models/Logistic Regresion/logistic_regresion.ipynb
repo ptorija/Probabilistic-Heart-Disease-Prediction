{
 "cells": [
  {
   "cell_type": "code",
   "execution_count": 10,
   "metadata": {},
   "outputs": [],
   "source": [
    "import pandas as pd\n",
    "\n",
    "df = pd.read_csv(\"../../../data/preprocessed_data.csv\")"
   ]
  },
  {
   "cell_type": "markdown",
   "metadata": {},
   "source": [
    "Separate between objective and independent variables"
   ]
  },
  {
   "cell_type": "code",
   "execution_count": 11,
   "metadata": {},
   "outputs": [],
   "source": [
    "x = df.drop(columns=['HeartDisease'])\n",
    "y = df['HeartDisease']"
   ]
  },
  {
   "cell_type": "markdown",
   "metadata": {},
   "source": [
    "Divide the data between train and test data"
   ]
  },
  {
   "cell_type": "code",
   "execution_count": 12,
   "metadata": {},
   "outputs": [],
   "source": [
    "from sklearn.model_selection import train_test_split\n",
    "\n",
    "x_train, x_test, y_train, y_test = train_test_split(x,y, test_size= 0.2)"
   ]
  },
  {
   "cell_type": "markdown",
   "metadata": {},
   "source": [
    "Logistic Regresion Model"
   ]
  },
  {
   "cell_type": "code",
   "execution_count": 13,
   "metadata": {},
   "outputs": [
    {
     "name": "stdout",
     "output_type": "stream",
     "text": [
      "The intercept b0 = [-2.14142064]\n",
      "The coefficients (b1) with feature names:\n",
      "             Feature  Coefficient\n",
      "0                BMI     0.011395\n",
      "1            Smoking     0.401524\n",
      "2    AlcoholDrinking    -0.282338\n",
      "3             Stroke     1.232784\n",
      "4     PhysicalHealth     0.002716\n",
      "5       MentalHealth     0.007000\n",
      "6        DiffWalking     0.257915\n",
      "7                Sex    -0.743224\n",
      "8        AgeCategory     0.057190\n",
      "9           Diabetic     0.540533\n",
      "10  PhysicalActivity     0.025616\n",
      "11         GenHealth    -0.534589\n",
      "12         SleepTime    -0.032014\n",
      "13            Asthma     0.348287\n",
      "14     KidneyDisease     0.604806\n",
      "15        SkinCancer     0.166791\n",
      "\n",
      "------------------------\n",
      "\n",
      "Accuracy: 0.763423816128393\n",
      "Recall: 0.7873364126250962\n",
      "F1 Score: 0.774077578051088\n",
      "Confusion Matrix:\n",
      " [[3615 1283]\n",
      " [1105 4091]]\n"
     ]
    }
   ],
   "source": [
    "from sklearn.linear_model import LogisticRegression\n",
    "from sklearn.metrics import confusion_matrix, accuracy_score, recall_score, f1_score\n",
    "import pandas as pd\n",
    "\n",
    "# Implementing Logistic Regression\n",
    "modelLogistic = LogisticRegression(max_iter=500)\n",
    "modelLogistic.fit(x_train, y_train)\n",
    "\n",
    "# Get the coefficients and feature names\n",
    "coefficients = modelLogistic.coef_[0]  # Extract the coefficients\n",
    "feature_names = x.columns  # Assuming you have the feature names in a DataFrame\n",
    "\n",
    "# Create a dictionary to map feature names to coefficients\n",
    "feature_coefficient_map = {feature: coefficient for feature, coefficient in zip(feature_names, coefficients)}\n",
    "\n",
    "# Create a Pandas DataFrame\n",
    "coefficients_df = pd.DataFrame(list(feature_coefficient_map.items()), columns=[\"Feature\", \"Coefficient\"])\n",
    "\n",
    "# Print the intercept and the coefficients with feature names\n",
    "print(\"The intercept b0 =\", modelLogistic.intercept_)\n",
    "print(\"The coefficients (b1) with feature names:\")\n",
    "print(coefficients_df)\n",
    "\n",
    "print(\"\\n------------------------\\n\")\n",
    "\n",
    "# Make predictions for the test data\n",
    "y_pred = modelLogistic.predict(x_test)\n",
    "\n",
    "# Calculate evaluation metrics\n",
    "accuracy = accuracy_score(y_test, y_pred)\n",
    "recall = recall_score(y_test, y_pred)\n",
    "f1 = f1_score(y_test, y_pred)\n",
    "conf_matrix = confusion_matrix(y_test, y_pred)\n",
    "\n",
    "# Print the metrics\n",
    "print(\"Accuracy:\", accuracy)\n",
    "print(\"Recall:\", recall)\n",
    "print(\"F1 Score:\", f1)\n",
    "print(\"Confusion Matrix:\\n\", conf_matrix)"
   ]
  }
 ],
 "metadata": {
  "kernelspec": {
   "display_name": "venv",
   "language": "python",
   "name": "python3"
  },
  "language_info": {
   "codemirror_mode": {
    "name": "ipython",
    "version": 3
   },
   "file_extension": ".py",
   "mimetype": "text/x-python",
   "name": "python",
   "nbconvert_exporter": "python",
   "pygments_lexer": "ipython3",
   "version": "3.11.6"
  }
 },
 "nbformat": 4,
 "nbformat_minor": 2
}
