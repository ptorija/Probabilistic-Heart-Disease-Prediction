{
 "cells": [
  {
   "cell_type": "code",
   "execution_count": 2,
   "metadata": {},
   "outputs": [
    {
     "name": "stdout",
     "output_type": "stream",
     "text": [
      "<class 'pandas.core.frame.DataFrame'>\n",
      "RangeIndex: 54345 entries, 0 to 54344\n",
      "Data columns (total 16 columns):\n",
      " #   Column            Non-Null Count  Dtype  \n",
      "---  ------            --------------  -----  \n",
      " 0   HeartDisease      54345 non-null  int64  \n",
      " 1   BMI               54345 non-null  float64\n",
      " 2   Smoking           54345 non-null  int64  \n",
      " 3   AlcoholDrinking   54345 non-null  int64  \n",
      " 4   Stroke            54345 non-null  int64  \n",
      " 5   PhysicalHealth    54345 non-null  float64\n",
      " 6   MentalHealth      54345 non-null  float64\n",
      " 7   DiffWalking       54345 non-null  int64  \n",
      " 8   Sex               54345 non-null  int64  \n",
      " 9   AgeCategory       54345 non-null  int64  \n",
      " 10  Diabetic          54345 non-null  int64  \n",
      " 11  PhysicalActivity  54345 non-null  int64  \n",
      " 12  GenHealth         54345 non-null  int64  \n",
      " 13  SleepTime         54345 non-null  float64\n",
      " 14  Asthma            54345 non-null  int64  \n",
      " 15  KidneyDisease     54345 non-null  int64  \n",
      "dtypes: float64(4), int64(12)\n",
      "memory usage: 6.6 MB\n"
     ]
    }
   ],
   "source": [
    "import pandas as pd\n",
    "\n",
    "df = pd.read_csv('../../data/preprocessed_data.csv')\n",
    "df.info()"
   ]
  }
 ],
 "metadata": {
  "kernelspec": {
   "display_name": "venv",
   "language": "python",
   "name": "python3"
  },
  "language_info": {
   "codemirror_mode": {
    "name": "ipython",
    "version": 3
   },
   "file_extension": ".py",
   "mimetype": "text/x-python",
   "name": "python",
   "nbconvert_exporter": "python",
   "pygments_lexer": "ipython3",
   "version": "3.11.2"
  }
 },
 "nbformat": 4,
 "nbformat_minor": 2
}
