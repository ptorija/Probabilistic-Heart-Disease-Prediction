{
 "cells": [
  {
   "cell_type": "code",
   "execution_count": 4,
   "metadata": {},
   "outputs": [],
   "source": [
    "import pandas as pd\n",
    "\n",
    "df = pd.read_csv(\"../../../../data/preprocessed_data.csv\")"
   ]
  },
  {
   "cell_type": "markdown",
   "metadata": {},
   "source": [
    "Separate between objective and independent variables"
   ]
  },
  {
   "cell_type": "code",
   "execution_count": 5,
   "metadata": {},
   "outputs": [],
   "source": [
    "x = df.drop(columns=['HeartDisease'])\n",
    "y = df['HeartDisease']"
   ]
  },
  {
   "cell_type": "markdown",
   "metadata": {},
   "source": [
    "Divide the data between train and test data"
   ]
  },
  {
   "cell_type": "code",
   "execution_count": 6,
   "metadata": {},
   "outputs": [],
   "source": [
    "from sklearn.model_selection import train_test_split\n",
    "\n",
    "x_train, x_test, y_train, y_test = train_test_split(x,y, test_size= 0.2)"
   ]
  },
  {
   "cell_type": "markdown",
   "metadata": {},
   "source": [
    "Linear Discriminant Analysis Model"
   ]
  },
  {
   "cell_type": "code",
   "execution_count": 8,
   "metadata": {},
   "outputs": [
    {
     "name": "stdout",
     "output_type": "stream",
     "text": [
      "Equal Covariance Matrices:\n",
      "Accuracy: 0.7640182286506836\n",
      "Recall: 0.7921187892632782\n",
      "F1 Score: 0.7774663677130045\n",
      "\n",
      "Equal Spherical Covariance Matrices:\n",
      "Accuracy: 0.7640182286506836\n",
      "Recall: 0.7921187892632782\n",
      "F1 Score: 0.7774663677130045\n"
     ]
    }
   ],
   "source": [
    "from sklearn.discriminant_analysis import LinearDiscriminantAnalysis\n",
    "from sklearn.metrics import accuracy_score, recall_score, f1_score\n",
    "\n",
    "# LDA with Equal Covariance Matrices\n",
    "lda_eq_cov = LinearDiscriminantAnalysis(solver='svd')\n",
    "lda_eq_cov.fit(x_train, y_train)\n",
    "y_pred_eq_cov = lda_eq_cov.predict(x_test)\n",
    "accuracy_eq_cov = accuracy_score(y_test, y_pred_eq_cov)\n",
    "recall_eq_cov = recall_score(y_test, y_pred_eq_cov)\n",
    "f1_eq_cov = f1_score(y_test, y_pred_eq_cov)\n",
    "\n",
    "# LDA with Equal Spherical Covariance Matrices\n",
    "lda_eq_spherical = LinearDiscriminantAnalysis(solver='lsqr')\n",
    "lda_eq_spherical.fit(x_train, y_train)\n",
    "y_pred_eq_spherical = lda_eq_spherical.predict(x_test)\n",
    "accuracy_eq_spherical = accuracy_score(y_test, y_pred_eq_spherical)\n",
    "recall_eq_spherical = recall_score(y_test, y_pred_eq_spherical)\n",
    "f1_eq_spherical = f1_score(y_test, y_pred_eq_spherical)\n",
    "\n",
    "# Print the evaluation metrics for both models\n",
    "print(\"Equal Covariance Matrices:\")\n",
    "print(\"Accuracy:\", accuracy_eq_cov)\n",
    "print(\"Recall:\", recall_eq_cov)\n",
    "print(\"F1 Score:\", f1_eq_cov)\n",
    "\n",
    "print(\"\\nEqual Spherical Covariance Matrices:\")\n",
    "print(\"Accuracy:\", accuracy_eq_spherical)\n",
    "print(\"Recall:\", recall_eq_spherical)\n",
    "print(\"F1 Score:\", f1_eq_spherical)"
   ]
  }
 ],
 "metadata": {
  "kernelspec": {
   "display_name": "venv",
   "language": "python",
   "name": "python3"
  },
  "language_info": {
   "codemirror_mode": {
    "name": "ipython",
    "version": 3
   },
   "file_extension": ".py",
   "mimetype": "text/x-python",
   "name": "python",
   "nbconvert_exporter": "python",
   "pygments_lexer": "ipython3",
   "version": "3.11.6"
  }
 },
 "nbformat": 4,
 "nbformat_minor": 2
}
