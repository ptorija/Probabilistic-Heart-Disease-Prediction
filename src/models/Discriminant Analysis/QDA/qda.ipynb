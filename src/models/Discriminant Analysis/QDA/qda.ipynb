{
 "cells": [
  {
   "cell_type": "code",
   "execution_count": 1,
   "metadata": {},
   "outputs": [],
   "source": [
    "import pandas as pd\n",
    "\n",
    "df = pd.read_csv(\"../../../../data/preprocessed_data.csv\")"
   ]
  },
  {
   "cell_type": "markdown",
   "metadata": {},
   "source": [
    "Separate between objective and independent variables"
   ]
  },
  {
   "cell_type": "code",
   "execution_count": 2,
   "metadata": {},
   "outputs": [],
   "source": [
    "x = df.drop(columns=['HeartDisease'])\n",
    "y = df['HeartDisease']"
   ]
  },
  {
   "cell_type": "markdown",
   "metadata": {},
   "source": [
    "Divide the data between train and test data"
   ]
  },
  {
   "cell_type": "code",
   "execution_count": 3,
   "metadata": {},
   "outputs": [],
   "source": [
    "from sklearn.model_selection import train_test_split\n",
    "\n",
    "x_train, x_test, y_train, y_test = train_test_split(x,y, test_size= 0.2)"
   ]
  },
  {
   "cell_type": "markdown",
   "metadata": {},
   "source": [
    "Linear Discriminant Analysis Model"
   ]
  },
  {
   "cell_type": "code",
   "execution_count": 8,
   "metadata": {},
   "outputs": [
    {
     "name": "stdout",
     "output_type": "stream",
     "text": [
      "QDA with Arbitrary Covariance Matrices:\n",
      "Accuracy: 0.7182484644343174\n",
      "Recall: 0.6546998648909477\n",
      "F1 Score: 0.7046115496468632\n"
     ]
    },
    {
     "name": "stderr",
     "output_type": "stream",
     "text": [
      "c:\\Users\\pablo\\OneDrive\\Documentos\\GitHub\\Probabilistic-Heart-Disease-Prediction\\venv\\Lib\\site-packages\\sklearn\\discriminant_analysis.py:935: UserWarning: Variables are collinear\n",
      "  warnings.warn(\"Variables are collinear\")\n"
     ]
    }
   ],
   "source": [
    "from sklearn.discriminant_analysis import QuadraticDiscriminantAnalysis\n",
    "from sklearn.metrics import accuracy_score, recall_score, f1_score\n",
    "\n",
    "# QDA with Arbitrary Covariance Matrices\n",
    "qda_arbitrary_cov = QuadraticDiscriminantAnalysis()\n",
    "qda_arbitrary_cov.fit(x_train, y_train)\n",
    "y_pred_arbitrary_cov = qda_arbitrary_cov.predict(x_test)\n",
    "accuracy_arbitrary_cov = accuracy_score(y_test, y_pred_arbitrary_cov)\n",
    "recall_arbitrary_cov = recall_score(y_test, y_pred_arbitrary_cov)\n",
    "f1_arbitrary_cov = f1_score(y_test, y_pred_arbitrary_cov)\n",
    "\n",
    "# Print the evaluation metrics for the QDA with arbitrary covariance matrices\n",
    "print(\"QDA with Arbitrary Covariance Matrices:\")\n",
    "print(\"Accuracy:\", accuracy_arbitrary_cov)\n",
    "print(\"Recall:\", recall_arbitrary_cov)\n",
    "print(\"F1 Score:\", f1_arbitrary_cov)\n"
   ]
  }
 ],
 "metadata": {
  "kernelspec": {
   "display_name": "venv",
   "language": "python",
   "name": "python3"
  },
  "language_info": {
   "codemirror_mode": {
    "name": "ipython",
    "version": 3
   },
   "file_extension": ".py",
   "mimetype": "text/x-python",
   "name": "python",
   "nbconvert_exporter": "python",
   "pygments_lexer": "ipython3",
   "version": "3.11.6"
  }
 },
 "nbformat": 4,
 "nbformat_minor": 2
}
