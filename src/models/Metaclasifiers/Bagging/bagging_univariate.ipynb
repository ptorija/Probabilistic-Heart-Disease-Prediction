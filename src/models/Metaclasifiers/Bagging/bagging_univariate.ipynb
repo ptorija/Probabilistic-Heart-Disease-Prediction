{
 "cells": [
  {
   "cell_type": "code",
   "execution_count": 1,
   "metadata": {},
   "outputs": [],
   "source": [
    "import pandas as pd\n",
    "\n",
    "df = pd.read_csv(\"../../../../data/preprocessed_data.csv\")"
   ]
  },
  {
   "cell_type": "markdown",
   "metadata": {},
   "source": [
    "Separate between objective and independent variables"
   ]
  },
  {
   "cell_type": "code",
   "execution_count": 2,
   "metadata": {},
   "outputs": [],
   "source": [
    "x = df.drop(columns=['HeartDisease'])\n",
    "y = df['HeartDisease']"
   ]
  },
  {
   "cell_type": "markdown",
   "metadata": {},
   "source": [
    "Divide the data between train and test data"
   ]
  },
  {
   "cell_type": "code",
   "execution_count": 3,
   "metadata": {},
   "outputs": [],
   "source": [
    "from sklearn.model_selection import train_test_split\n",
    "\n",
    "x_train, x_test, y_train, y_test = train_test_split(x,y, test_size= 0.2)"
   ]
  },
  {
   "cell_type": "markdown",
   "metadata": {},
   "source": [
    "Implementing Random Forest, KNN and Logistic Regresion"
   ]
  },
  {
   "cell_type": "code",
   "execution_count": 6,
   "metadata": {},
   "outputs": [
    {
     "name": "stdout",
     "output_type": "stream",
     "text": [
      "Selected Features: ['AgeCategory', 'GenHealth']\n",
      "Random Forest Classifier Metrics:\n",
      "Accuracy: 0.7459877154745393\n",
      "Recall: 0.7923987776928954\n",
      "F1 Score: 0.7639477076044927\n",
      "\n",
      "KNN Classifier Metrics:\n",
      "Accuracy: 0.7273627897761046\n",
      "Recall: 0.692131398013751\n",
      "F1 Score: 0.7248000000000001\n",
      "\n",
      "Logistic Regression Metrics:\n",
      "Accuracy: 0.7459877154745393\n",
      "Recall: 0.7912528647822765\n",
      "F1 Score: 0.7636866359447004\n"
     ]
    }
   ],
   "source": [
    "from sklearn.ensemble import RandomForestClassifier\n",
    "from sklearn.neighbors import KNeighborsClassifier\n",
    "from sklearn.linear_model import LogisticRegression\n",
    "from sklearn.metrics import accuracy_score, recall_score, f1_score, confusion_matrix\n",
    "from sklearn.feature_selection import mutual_info_classif, SelectKBest\n",
    "\n",
    "\n",
    "# Use mutual information with k=2 for feature selection\n",
    "k_best = SelectKBest(mutual_info_classif, k=2)\n",
    "x_train_selected = k_best.fit_transform(x_train, y_train)\n",
    "x_test_selected = k_best.transform(x_test)\n",
    "\n",
    "# Get the selected feature indices\n",
    "selected_indices = k_best.get_support(indices=True)\n",
    "\n",
    "# Print the selected feature names\n",
    "selected_features = x_train.columns[selected_indices]\n",
    "print(f\"Selected Features: {selected_features.tolist()}\")\n",
    "\n",
    "# Initialize the Random Forest model\n",
    "modelRandomForest = RandomForestClassifier(n_estimators=100, random_state=42)\n",
    "\n",
    "# Initialize the KNN model\n",
    "modelKNN = KNeighborsClassifier(n_neighbors=12)\n",
    "\n",
    "# Initialize the Logistic Regression model\n",
    "modelLogistic = LogisticRegression(max_iter=500, random_state=42)\n",
    "\n",
    "# Fit the models on the training data\n",
    "modelRandomForest.fit(x_train_selected, y_train)\n",
    "modelKNN.fit(x_train_selected, y_train)\n",
    "modelLogistic.fit(x_train_selected, y_train)\n",
    "\n",
    "# Make predictions on the test data for each model\n",
    "y_pred_random_forest = modelRandomForest.predict(x_test_selected)\n",
    "y_pred_knn = modelKNN.predict(x_test_selected)\n",
    "y_pred_logistic = modelLogistic.predict(x_test_selected)\n",
    "\n",
    "# Calculate evaluation metrics for each model\n",
    "accuracy_random_forest = accuracy_score(y_test, y_pred_random_forest)\n",
    "recall_random_forest = recall_score(y_test, y_pred_random_forest)\n",
    "f1_random_forest = f1_score(y_test, y_pred_random_forest)\n",
    "\n",
    "accuracy_knn = accuracy_score(y_test, y_pred_knn)\n",
    "recall_knn = recall_score(y_test, y_pred_knn)\n",
    "f1_knn = f1_score(y_test, y_pred_knn)\n",
    "\n",
    "accuracy_logistic = accuracy_score(y_test, y_pred_logistic)\n",
    "recall_logistic = recall_score(y_test, y_pred_logistic)\n",
    "f1_logistic = f1_score(y_test, y_pred_logistic)\n",
    "\n",
    "# Print the metrics for each model\n",
    "print(\"Random Forest Classifier Metrics:\")\n",
    "print(\"Accuracy:\", accuracy_random_forest)\n",
    "print(\"Recall:\", recall_random_forest)\n",
    "print(\"F1 Score:\", f1_random_forest)\n",
    "\n",
    "print(\"\\nKNN Classifier Metrics:\")\n",
    "print(\"Accuracy:\", accuracy_knn)\n",
    "print(\"Recall:\", recall_knn)\n",
    "print(\"F1 Score:\", f1_knn)\n",
    "\n",
    "print(\"\\nLogistic Regression Metrics:\")\n",
    "print(\"Accuracy:\", accuracy_logistic)\n",
    "print(\"Recall:\", recall_logistic)\n",
    "print(\"F1 Score:\", f1_logistic)\n"
   ]
  },
  {
   "cell_type": "markdown",
   "metadata": {},
   "source": [
    "Bagging"
   ]
  },
  {
   "cell_type": "code",
   "execution_count": 7,
   "metadata": {},
   "outputs": [
    {
     "name": "stderr",
     "output_type": "stream",
     "text": [
      "c:\\Users\\pablo\\OneDrive\\Documentos\\GitHub\\Probabilistic-Heart-Disease-Prediction\\venv\\Lib\\site-packages\\sklearn\\ensemble\\_base.py:156: FutureWarning: `base_estimator` was renamed to `estimator` in version 1.2 and will be removed in 1.4.\n",
      "  warnings.warn(\n"
     ]
    },
    {
     "name": "stdout",
     "output_type": "stream",
     "text": [
      "\n",
      "Bagging Classifier Metrics:\n",
      "Accuracy: 0.7459877154745393\n",
      "Recall: 0.7912528647822765\n",
      "F1 Score: 0.7636866359447004\n"
     ]
    },
    {
     "data": {
      "image/png": "[encoded data removed]",
      "text/plain": [
       "<Figure size 640x480 with 2 Axes>"
      ]
     },
     "metadata": {},
     "output_type": "display_data"
    }
   ],
   "source": [
    "from sklearn.ensemble import BaggingClassifier\n",
    "import matplotlib.pyplot as plt\n",
    "import seaborn as sns\n",
    "\n",
    "# Initialize the BaggingClassifier with Logistic Regression as the base estimator\n",
    "bagging_model = BaggingClassifier(base_estimator=LogisticRegression(max_iter=500, random_state=42),\n",
    "                                  n_estimators=10, random_state=42)\n",
    "\n",
    "bagging_model.fit(x_train_selected, y_train)\n",
    "\n",
    "y_pred_bagging = bagging_model.predict(x_test_selected)\n",
    "\n",
    "accuracy_bagging = accuracy_score(y_test, y_pred_bagging)\n",
    "recall_bagging = recall_score(y_test, y_pred_bagging)\n",
    "f1_bagging = f1_score(y_test, y_pred_bagging)\n",
    "conf_matrix_bagging = confusion_matrix(y_test, y_pred_bagging)\n",
    "\n",
    "print(\"\\nBagging Classifier Metrics:\")\n",
    "print(\"Accuracy:\", accuracy_bagging)\n",
    "print(\"Recall:\", recall_bagging)\n",
    "print(\"F1 Score:\", f1_bagging)\n",
    "\n",
    "# Plot the confusion matrix for Bagging\n",
    "sns.heatmap(conf_matrix_bagging, annot=True, fmt=\"d\", cmap=\"Blues\")\n",
    "plt.xlabel(\"Predicted Label\")\n",
    "plt.ylabel(\"True Label\")\n",
    "plt.title(\"Confusion Matrix - Bagging Classifier\")\n",
    "plt.show()"
   ]
  }
 ],
 "metadata": {
  "kernelspec": {
   "display_name": "venv",
   "language": "python",
   "name": "python3"
  },
  "language_info": {
   "codemirror_mode": {
    "name": "ipython",
    "version": 3
   },
   "file_extension": ".py",
   "mimetype": "text/x-python",
   "name": "python",
   "nbconvert_exporter": "python",
   "pygments_lexer": "ipython3",
   "version": "3.11.2"
  }
 },
 "nbformat": 4,
 "nbformat_minor": 2
}
