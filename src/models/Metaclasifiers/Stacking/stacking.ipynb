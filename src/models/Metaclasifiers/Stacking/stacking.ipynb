{
 "cells": [
  {
   "cell_type": "code",
   "execution_count": 1,
   "metadata": {},
   "outputs": [],
   "source": [
    "import pandas as pd\n",
    "\n",
    "df = pd.read_csv(\"../../../../data/preprocessed_data.csv\")"
   ]
  },
  {
   "cell_type": "markdown",
   "metadata": {},
   "source": [
    "Separate between objective and independent variables"
   ]
  },
  {
   "cell_type": "code",
   "execution_count": 7,
   "metadata": {},
   "outputs": [],
   "source": [
    "x = df.drop(columns=['HeartDisease'])\n",
    "y = df['HeartDisease']"
   ]
  },
  {
   "cell_type": "markdown",
   "metadata": {},
   "source": [
    "Divide the data between train and test data"
   ]
  },
  {
   "cell_type": "code",
   "execution_count": 8,
   "metadata": {},
   "outputs": [],
   "source": [
    "from sklearn.model_selection import train_test_split\n",
    "\n",
    "x_train, x_test, y_train, y_test = train_test_split(x,y, test_size= 0.2)"
   ]
  },
  {
   "cell_type": "markdown",
   "metadata": {},
   "source": [
    "Implementing Random Forest, KNN and Logistic Regresion"
   ]
  },
  {
   "cell_type": "code",
   "execution_count": 9,
   "metadata": {},
   "outputs": [
    {
     "name": "stdout",
     "output_type": "stream",
     "text": [
      "Random Forest Classifier Metrics:\n",
      "Accuracy: 0.7423221715870815\n",
      "Recall: 0.7815420560747663\n",
      "F1 Score: 0.7552921253175274\n",
      "\n",
      "KNN Classifier Metrics:\n",
      "Accuracy: 0.730433921141272\n",
      "Recall: 0.7209890965732088\n",
      "F1 Score: 0.7313123333662487\n",
      "\n",
      "Logistic Regression Metrics:\n",
      "Accuracy: 0.7641172974043986\n",
      "Recall: 0.7918613707165109\n",
      "F1 Score: 0.7735615786970993\n"
     ]
    }
   ],
   "source": [
    "from sklearn.ensemble import RandomForestClassifier\n",
    "from sklearn.neighbors import KNeighborsClassifier\n",
    "from sklearn.linear_model import LogisticRegression\n",
    "from sklearn.metrics import accuracy_score, recall_score, f1_score, confusion_matrix\n",
    "\n",
    "\n",
    "# Initialize the Random Forest model\n",
    "modelRandomForest = RandomForestClassifier(n_estimators=100, random_state=42)\n",
    "\n",
    "# Fit the model on the training data\n",
    "modelRandomForest.fit(x_train, y_train)\n",
    "\n",
    "# Make predictions on the test data\n",
    "y_pred_random_forest = modelRandomForest.predict(x_test)\n",
    "\n",
    "# Calculate evaluation metrics for Random Forest\n",
    "accuracy_random_forest = accuracy_score(y_test, y_pred_random_forest)\n",
    "recall_random_forest = recall_score(y_test, y_pred_random_forest)\n",
    "f1_random_forest = f1_score(y_test, y_pred_random_forest)\n",
    "\n",
    "# Print the metrics for Random Forest\n",
    "print(\"Random Forest Classifier Metrics:\")\n",
    "print(\"Accuracy:\", accuracy_random_forest)\n",
    "print(\"Recall:\", recall_random_forest)\n",
    "print(\"F1 Score:\", f1_random_forest)\n",
    "\n",
    "\n",
    "# Initialize the KNN model \n",
    "modelKNN = KNeighborsClassifier(n_neighbors=12)\n",
    "\n",
    "# Fit the model on the training data\n",
    "modelKNN.fit(x_train, y_train)\n",
    "\n",
    "# Make predictions on the test data\n",
    "y_pred_knn = modelKNN.predict(x_test)\n",
    "\n",
    "# Calculate evaluation metrics for KNN\n",
    "accuracy_knn = accuracy_score(y_test, y_pred_knn)\n",
    "recall_knn = recall_score(y_test, y_pred_knn)\n",
    "f1_knn = f1_score(y_test, y_pred_knn)\n",
    "\n",
    "# Print the metrics for KNN\n",
    "print(\"\\nKNN Classifier Metrics:\")\n",
    "print(\"Accuracy:\", accuracy_knn)\n",
    "print(\"Recall:\", recall_knn)\n",
    "print(\"F1 Score:\", f1_knn)\n",
    "\n",
    "\n",
    "# Initialize the Logistic Regression model\n",
    "modelLogistic = LogisticRegression(max_iter=500, random_state=42)\n",
    "\n",
    "# Fit the model on the training data\n",
    "modelLogistic.fit(x_train, y_train)\n",
    "\n",
    "# Make predictions on the test data\n",
    "y_pred_logistic = modelLogistic.predict(x_test)\n",
    "\n",
    "# Calculate evaluation metrics for Logistic Regression\n",
    "accuracy_logistic = accuracy_score(y_test, y_pred_logistic)\n",
    "recall_logistic = recall_score(y_test, y_pred_logistic)\n",
    "f1_logistic = f1_score(y_test, y_pred_logistic)\n",
    "\n",
    "# Print the metrics for Logistic Regression\n",
    "print(\"\\nLogistic Regression Metrics:\")\n",
    "print(\"Accuracy:\", accuracy_logistic)\n",
    "print(\"Recall:\", recall_logistic)\n",
    "print(\"F1 Score:\", f1_logistic)\n"
   ]
  },
  {
   "cell_type": "markdown",
   "metadata": {},
   "source": [
    "Stacking"
   ]
  },
  {
   "cell_type": "code",
   "execution_count": 12,
   "metadata": {},
   "outputs": [
    {
     "name": "stdout",
     "output_type": "stream",
     "text": [
      "Stacking Classifier Metrics:\n",
      "Accuracy: 0.7650089161878344\n",
      "Recall: 0.7949766355140186\n",
      "F1 Score: 0.7749098500664262\n"
     ]
    },
    {
     "data": {
      "image/png": "[encoded data removed]",
      "text/plain": [
       "<Figure size 640x480 with 2 Axes>"
      ]
     },
     "metadata": {},
     "output_type": "display_data"
    }
   ],
   "source": [
    "from sklearn.ensemble import StackingClassifier\n",
    "from sklearn.linear_model import LogisticRegression\n",
    "from sklearn.metrics import confusion_matrix\n",
    "import matplotlib.pyplot as plt\n",
    "import seaborn as sns\n",
    "\n",
    "# Create a StackingClassifier\n",
    "estimators = [\n",
    "    ('logistic', modelLogistic),\n",
    "    ('random_forest', modelRandomForest),\n",
    "    ('svm', modelKNN)\n",
    "]\n",
    "\n",
    "stacking_model = StackingClassifier(estimators=estimators, final_estimator=LogisticRegression(max_iter=1000))\n",
    "\n",
    "# Fit the StackingClassifier on the training data\n",
    "stacking_model.fit(x_train, y_train)\n",
    "\n",
    "# Make predictions for the test data\n",
    "y_pred_stacking = stacking_model.predict(x_test)\n",
    "\n",
    "# Calculate evaluation metrics for stacking\n",
    "accuracy_stacking = accuracy_score(y_test, y_pred_stacking)\n",
    "recall_stacking = recall_score(y_test, y_pred_stacking)\n",
    "f1_stacking = f1_score(y_test, y_pred_stacking)\n",
    "conf_matrix_stacking = confusion_matrix(y_test, y_pred_stacking)\n",
    "\n",
    "# Print the metrics for stacking\n",
    "print(\"Stacking Classifier Metrics:\")\n",
    "print(\"Accuracy:\", accuracy_stacking)\n",
    "print(\"Recall:\", recall_stacking)\n",
    "print(\"F1 Score:\", f1_stacking)\n",
    "\n",
    "# Plot the confusion matrix\n",
    "sns.heatmap(conf_matrix_stacking, annot=True, fmt=\"d\", cmap=\"Blues\")\n",
    "plt.xlabel(\"Predicted Label\")\n",
    "plt.ylabel(\"True Label\")\n",
    "plt.title(\"Confusion Matrix - Stacking Classifier\")\n",
    "plt.show()\n"
   ]
  }
 ],
 "metadata": {
  "kernelspec": {
   "display_name": "venv",
   "language": "python",
   "name": "python3"
  },
  "language_info": {
   "codemirror_mode": {
    "name": "ipython",
    "version": 3
   },
   "file_extension": ".py",
   "mimetype": "text/x-python",
   "name": "python",
   "nbconvert_exporter": "python",
   "pygments_lexer": "ipython3",
   "version": "3.11.2"
  }
 },
 "nbformat": 4,
 "nbformat_minor": 2
}
